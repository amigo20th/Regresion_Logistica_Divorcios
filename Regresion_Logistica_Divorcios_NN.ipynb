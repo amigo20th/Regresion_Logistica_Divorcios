{
  "nbformat": 4,
  "nbformat_minor": 0,
  "metadata": {
    "colab": {
      "name": "Regresion_Logistica_Divorcios_NN.ipynb",
      "provenance": []
    },
    "kernelspec": {
      "name": "python3",
      "display_name": "Python 3"
    }
  },
  "cells": [
    {
      "cell_type": "markdown",
      "metadata": {
        "id": "Ru6jbXEwF1Dh",
        "colab_type": "text"
      },
      "source": [
        "<h1>Regresión Logística para la predicción de divorcios</h1>"
      ]
    },
    {
      "cell_type": "markdown",
      "metadata": {
        "id": "gObF_TG5GARn",
        "colab_type": "text"
      },
      "source": [
        "En este Notebook vamos a hacer una regresión logístia por medio de una sola neurona, o perceptró. El proceso va a ser llevado desde un inicio con el mayor nivel de explicación que me sea posible dar.\n",
        "\n",
        "El ejercicio está basado en el Notebook de Andrew Ng llamado Logistic Regression with a Neural Network, aunque el ejercicio está excelentemente explicado quiero replicarlo, esto lo voy a hacer en mis propias palabras es por eso que lo estoy haciendo en español.\n",
        "\n",
        "Llamamos nuestras librerias a ocupar."
      ]
    },
    {
      "cell_type": "code",
      "metadata": {
        "id": "afWmtlmIF-LO",
        "colab_type": "code",
        "colab": {}
      },
      "source": [
        "import numpy as np\n",
        "import matplotlib.pyplot as plt\n",
        "import pandas as pd \n",
        "from sklearn.model_selection import train_test_split\n",
        "from collections import Counter"
      ],
      "execution_count": 80,
      "outputs": []
    },
    {
      "cell_type": "markdown",
      "metadata": {
        "id": "GDTEw7qlWJFp",
        "colab_type": "text"
      },
      "source": [
        "Cargamos el conjunto de datos necesarios para la realización de la regresión losgística.\n",
        "\n",
        "En este caso el conjunto de datos está tomado del siguiente link:\n",
        "[Conjunto de datos sobre cuestionario de divorcios](https://archive.ics.uci.edu/ml/datasets/Divorce+Predictors+data+set)\n",
        "\n",
        "Para mayor información sobre el conjunto de datos checar la publicación.\n",
        "\n",
        "*Yöntem, M , Adem, K , İlhan, T , Kılıçarslan, S. (2019). DIVORCE PREDICTION USING CORRELATION BASED FEATURE SELECTION AND ARTIFICIAL NEURAL NETWORKS. Nevşehir Hacı Bektaş Veli University SBE Dergisi, 9 (1), 259-273.* [Publicación](https://dergipark.org.tr/tr/pub/nevsosbilen/issue/46568/549416)  "
      ]
    },
    {
      "cell_type": "code",
      "metadata": {
        "id": "WdnKpTw7IWzc",
        "colab_type": "code",
        "colab": {}
      },
      "source": [
        "df = pd.read_csv(\"/content/sample_data/divorce.csv\", sep = '\\t', header=None)"
      ],
      "execution_count": 81,
      "outputs": []
    },
    {
      "cell_type": "markdown",
      "metadata": {
        "id": "6qO1ytZ0XKIg",
        "colab_type": "text"
      },
      "source": [
        "Ya una vez cargados los datos en un DataFrame de pandas, vamos a ver la distribución de las dos clases (divorciados|casados) para validar que no estéé desbalanceado el conjunto de datos."
      ]
    },
    {
      "cell_type": "code",
      "metadata": {
        "id": "-wE5TScXXiVC",
        "colab_type": "code",
        "colab": {
          "base_uri": "https://localhost:8080/",
          "height": 34
        },
        "outputId": "9adaf886-1b15-4ab3-f8f1-b303514a4b66"
      },
      "source": [
        "print(Counter(df.iloc[:, -1]))"
      ],
      "execution_count": 82,
      "outputs": [
        {
          "output_type": "stream",
          "text": [
            "Counter({0: 86, 1: 84})\n"
          ],
          "name": "stdout"
        }
      ]
    },
    {
      "cell_type": "markdown",
      "metadata": {
        "id": "9MyXwVmSX3AX",
        "colab_type": "text"
      },
      "source": [
        "Se puede observar que tiene la cantidad de datos de las siguientes clases:\n",
        "\n",
        "| Divorciados  | Casados     |\n",
        "|:------------:|:-----------:|\n",
        "|86            |84           |\n",
        "\n",
        "Por lo tanto se puede observar que efectivamente estamos ante un conjunto de datos balanceado.\n",
        "\n",
        "Al momento de dividir el conjunto de datos en el conjunto de entrenamiento *(train)* y el conjunto de prueba *(test)* debemos asegurarnos de que ese balanceo sea consistente así que vamos a separar el conjunto de datos en divorciados y casados."
      ]
    },
    {
      "cell_type": "code",
      "metadata": {
        "id": "-f0u_CqJ2tIa",
        "colab_type": "code",
        "colab": {}
      },
      "source": [
        "# dataframe de divorciados\n",
        "df_div = df[df[54] == 1]\n",
        "# dataframe de los casados\n",
        "df_cas = df[df[54] == 0]"
      ],
      "execution_count": 83,
      "outputs": []
    },
    {
      "cell_type": "markdown",
      "metadata": {
        "id": "mNcV0l7EZYbW",
        "colab_type": "text"
      },
      "source": [
        "Solo vamos a crear temporalmente las variables *target* que en este caso contienen al atributo clase. Son temporales porque train_test_split lo requiere."
      ]
    },
    {
      "cell_type": "code",
      "metadata": {
        "id": "p58dNMeb4L95",
        "colab_type": "code",
        "colab": {}
      },
      "source": [
        "target_div = df_div.iloc[:, -1]\n",
        "target_cas = df_cas.iloc[:, -1]"
      ],
      "execution_count": 84,
      "outputs": []
    },
    {
      "cell_type": "markdown",
      "metadata": {
        "id": "7HjxPO2MlwuO",
        "colab_type": "text"
      },
      "source": [
        "Validamos que las dimensiones sigan estando correctas.\n"
      ]
    },
    {
      "cell_type": "code",
      "metadata": {
        "id": "tmiKV7-164g8",
        "colab_type": "code",
        "colab": {
          "base_uri": "https://localhost:8080/",
          "height": 52
        },
        "outputId": "fc8b0ef1-e6b0-4208-bd05-615f3c8e3ec6"
      },
      "source": [
        "print(df_div.shape)\n",
        "print(df_cas.shape)\n"
      ],
      "execution_count": 85,
      "outputs": [
        {
          "output_type": "stream",
          "text": [
            "(84, 55)\n",
            "(86, 55)\n"
          ],
          "name": "stdout"
        }
      ]
    },
    {
      "cell_type": "markdown",
      "metadata": {
        "id": "veZku2L1Zyt3",
        "colab_type": "text"
      },
      "source": [
        "Ahora si pasamos a dividir en conjunto de entranamiento y conjunto de prueba a los dos *DataFrame* que teniamos, cabe recordar que los conjuntos, *y_train* y *y_test* son temporales y los creamos para poder ejecutar *train_test_split*"
      ]
    },
    {
      "cell_type": "code",
      "metadata": {
        "id": "spzf0EL64uxq",
        "colab_type": "code",
        "colab": {}
      },
      "source": [
        "X_train_div, X_test_div, y_train_div, y_test_div = train_test_split(df_div, target_div, train_size=0.8)\n",
        "X_train_cas, X_test_cas, y_train_cas, y_test_cas = train_test_split(df_cas, target_cas, train_size=0.8)"
      ],
      "execution_count": 86,
      "outputs": []
    },
    {
      "cell_type": "markdown",
      "metadata": {
        "id": "p-l2qm9uaOBM",
        "colab_type": "text"
      },
      "source": [
        "Validamos que los conjuntos de entrenamiento y prueba tengan las dimensiones correctas."
      ]
    },
    {
      "cell_type": "code",
      "metadata": {
        "id": "JbQO5tG_42De",
        "colab_type": "code",
        "colab": {
          "base_uri": "https://localhost:8080/",
          "height": 104
        },
        "outputId": "1bd2b2e5-1ad7-45e5-a442-9f18b4f517b7"
      },
      "source": [
        "print(X_train_div.shape)\n",
        "print(X_test_div.shape)\n",
        "print()\n",
        "print(X_train_cas.shape)\n",
        "print(X_test_cas.shape)\n"
      ],
      "execution_count": 87,
      "outputs": [
        {
          "output_type": "stream",
          "text": [
            "(67, 55)\n",
            "(17, 55)\n",
            "\n",
            "(68, 55)\n",
            "(18, 55)\n"
          ],
          "name": "stdout"
        }
      ]
    },
    {
      "cell_type": "markdown",
      "metadata": {
        "id": "gc30u8XMaVbI",
        "colab_type": "text"
      },
      "source": [
        "Efectivamente, están conrrectas ya que el 20 % de 84 es aproximadamente 17 (16.8) y el correspondiente 20 % de los casados que son 86 es cerca de 18 (17.2).\n",
        "\n",
        "Todo sumado son 170 datos, los cuales son con los que iniciamos.\n",
        "\n",
        "Ahora, concatenamos los conjuntos de entrenamiento (divorciados y casados) y los de prueba, así no quedará un solo solo conjunto de datos para cada uno de ellos."
      ]
    },
    {
      "cell_type": "code",
      "metadata": {
        "id": "1YZkdkSt5kb7",
        "colab_type": "code",
        "colab": {}
      },
      "source": [
        "X_train = pd.concat((X_train_div, X_train_cas), axis=0)\n",
        "X_test =  pd.concat((X_test_div , X_test_cas), axis=0)\n",
        "y_train = pd.concat((y_train_div, y_train_cas), axis=0)\n",
        "y_test =  pd.concat((y_test_div,  y_test_cas), axis=0)"
      ],
      "execution_count": 88,
      "outputs": []
    },
    {
      "cell_type": "markdown",
      "metadata": {
        "id": "zotVMEq8bLYY",
        "colab_type": "text"
      },
      "source": [
        "Validamos que las dimensiones sigan correctas"
      ]
    },
    {
      "cell_type": "code",
      "metadata": {
        "id": "zkHixjkS6Znj",
        "colab_type": "code",
        "colab": {
          "base_uri": "https://localhost:8080/",
          "height": 52
        },
        "outputId": "75407484-b7e3-47d2-d361-96a76fa745c2"
      },
      "source": [
        "print(X_train.shape)\n",
        "print(X_test.shape)"
      ],
      "execution_count": 89,
      "outputs": [
        {
          "output_type": "stream",
          "text": [
            "(135, 55)\n",
            "(35, 55)\n"
          ],
          "name": "stdout"
        }
      ]
    },
    {
      "cell_type": "markdown",
      "metadata": {
        "id": "n0ztqOUWbO6d",
        "colab_type": "text"
      },
      "source": [
        "Ahora, vamos a intercambiar filas de los dos conjuntos de datos de una manera aleatoria, ya que en el último paso de concatenación dejamos a los divorciados todos juntos y a los casados todos juntos, esto se hace para evitar que el perceptrón no detecte el patrón de las clases en lugar de depenter puramente de sus entradas"
      ]
    },
    {
      "cell_type": "code",
      "metadata": {
        "id": "crw8DAYdQVZj",
        "colab_type": "code",
        "colab": {}
      },
      "source": [
        "X_train = X_train.sample(frac=1.0, random_state=1)\n",
        "X_test = X_test.sample(frac=1.0, random_state=1)"
      ],
      "execution_count": 90,
      "outputs": []
    },
    {
      "cell_type": "markdown",
      "metadata": {
        "id": "JCpG_OkWbuTG",
        "colab_type": "text"
      },
      "source": [
        "Lo que vamos a hacer ahora es crear los verdaderos *y_train* y *y_test* que son la variables que contienen sus respectivas clases a las que perteneces dichos datos.\n",
        "\n",
        "De igual manera le quitamos el conjunto de clases a los conjuntos de datos de entrenamiento y prueba."
      ]
    },
    {
      "cell_type": "code",
      "metadata": {
        "id": "Pv78tQxkREJ6",
        "colab_type": "code",
        "colab": {}
      },
      "source": [
        "y_train = X_train.iloc[:, -1]\n",
        "y_test = X_test.iloc[:, -1]\n",
        "X_train = X_train.iloc[:, :-1]\n",
        "X_test = X_test.iloc[:, :-1]"
      ],
      "execution_count": 91,
      "outputs": []
    },
    {
      "cell_type": "markdown",
      "metadata": {
        "id": "RrMqetwPcNB5",
        "colab_type": "text"
      },
      "source": [
        "Validamos que los índices de las clases pertenezcan a sus respectivos conjuntos de datos. "
      ]
    },
    {
      "cell_type": "code",
      "metadata": {
        "id": "_fjX4SvQNgon",
        "colab_type": "code",
        "colab": {
          "base_uri": "https://localhost:8080/",
          "height": 295
        },
        "outputId": "63d6255c-c44f-4d05-ce1a-ca751a2fab67"
      },
      "source": [
        "print(X_train.index)\n",
        "print(y_train.index)\n",
        "print(X_test.index)\n",
        "print(y_test.index)"
      ],
      "execution_count": 92,
      "outputs": [
        {
          "output_type": "stream",
          "text": [
            "Int64Index([ 12,   0, 109,  62,  75, 119,   1,  83,  61, 165,\n",
            "            ...\n",
            "             79, 144,  93,   6,  59, 162, 148,  97, 106,  42],\n",
            "           dtype='int64', length=135)\n",
            "Int64Index([ 12,   0, 109,  62,  75, 119,   1,  83,  61, 165,\n",
            "            ...\n",
            "             79, 144,  93,   6,  59, 162, 148,  97, 106,  42],\n",
            "           dtype='int64', length=135)\n",
            "Int64Index([ 29, 139,  49, 102, 125, 169, 111, 155, 134, 152, 108,  88,   7,\n",
            "              8, 116, 120,  30, 157,  87, 113, 145, 131,  43,   9,  44, 161,\n",
            "             22,  47,  38,  78,   2,   5,  32,  28,  80],\n",
            "           dtype='int64')\n",
            "Int64Index([ 29, 139,  49, 102, 125, 169, 111, 155, 134, 152, 108,  88,   7,\n",
            "              8, 116, 120,  30, 157,  87, 113, 145, 131,  43,   9,  44, 161,\n",
            "             22,  47,  38,  78,   2,   5,  32,  28,  80],\n",
            "           dtype='int64')\n"
          ],
          "name": "stdout"
        }
      ]
    },
    {
      "cell_type": "markdown",
      "metadata": {
        "id": "r3RuV0o5cZ5w",
        "colab_type": "text"
      },
      "source": [
        "Ahora validamos que las dimensiones finales estén correctas."
      ]
    },
    {
      "cell_type": "code",
      "metadata": {
        "id": "zFq0J1cLNm21",
        "colab_type": "code",
        "colab": {
          "base_uri": "https://localhost:8080/",
          "height": 86
        },
        "outputId": "45a3db4a-ad3a-4b2c-804f-6def567a9490"
      },
      "source": [
        "print(X_train.shape)\n",
        "print(y_train.shape)\n",
        "print(X_test.shape)\n",
        "print(y_test.shape)"
      ],
      "execution_count": 93,
      "outputs": [
        {
          "output_type": "stream",
          "text": [
            "(135, 54)\n",
            "(135,)\n",
            "(35, 54)\n",
            "(35,)\n"
          ],
          "name": "stdout"
        }
      ]
    },
    {
      "cell_type": "markdown",
      "metadata": {
        "id": "55y_eh1UcgWE",
        "colab_type": "text"
      },
      "source": [
        "Ahora terminamos con un conjunto de entremiento con 135 datos y 54 atributos, con su respectiva lista de clases supervisadas a las que perteneces esos datos; también tenemos 35 datos de prueba con sus mismos 54 atributos y su varible de clases.\n",
        "\n",
        "|conjunto de datos|dimensiones|\n",
        "|---|:-:|\n",
        "|X_train|(135,54)|\n",
        "|y_train|(135, )|\n",
        "|X_test|(35,54)|\n",
        "|y_test|(35, )|\n"
      ]
    },
    {
      "cell_type": "markdown",
      "metadata": {
        "id": "IW3VPV6Edfmj",
        "colab_type": "text"
      },
      "source": [
        "Ahora, apartir de aquí vamos a empezar a trabajar en *numpy* ya que vamos a centrarnos en hacer operaciones más que tratamiento de datos. Oficialmente terminó nuestra etapa de preparación de datos y análisis exploratorio de datos.\n",
        "\n",
        "Comenzamos con el modelado.\n",
        "\n",
        "Vamos a sacar el objeto *numpy* de *pandas*. También vamos a preparar los datos de ambos conjuntos de X, esto ya que cada dato debe estar en una columna y cada atributo debe de estar en cada fila, esto es necesario para poder aplicar la vectorización en *numpy* y poder aplicar la ecuación lineal vectorizada de una menera óptima.\n",
        "\n",
        "La ecuación de la recta vectorizada es la siguiente:"
      ]
    },
    {
      "cell_type": "markdown",
      "metadata": {
        "id": "UrpEwkxcflGf",
        "colab_type": "text"
      },
      "source": [
        "$$z = W^{T}X + b$$"
      ]
    },
    {
      "cell_type": "markdown",
      "metadata": {
        "id": "PV0IwnUDkSlK",
        "colab_type": "text"
      },
      "source": [
        "Cabe mencionar que en este ejemplo el vector de los pesos originalmente es un vector columna con dimensiones (número atributos, 1) por lo cual al tenerlo en su traspuesta nos queda en dimensiones (1, número atributos), esto permite una multiplicación matricial con X ya que sus dimensiones son correctas, es decir\n",
        "\n",
        "dim(W.T) = (1, número atributos)\n",
        "\n",
        "dim(X) = (número atributos, m)\n",
        "\n",
        "Donde número de atributos es 54 y m = 135 para el conjunto de entrenamiento.\n",
        "\n",
        "b en este caso es un escalar ya que solo tenemos un perceptrón."
      ]
    },
    {
      "cell_type": "code",
      "metadata": {
        "id": "OSqx0p_-6si3",
        "colab_type": "code",
        "colab": {}
      },
      "source": [
        "# Sacamos el numpy de cada dataframe y lo guardamos con su \n",
        "# traspuesta para acomodarlo en el convenio\n",
        "X_train = X_train.values\n",
        "X_train = X_train.T\n",
        "\n",
        "X_test = X_test.values\n",
        "X_test = X_test.T"
      ],
      "execution_count": 94,
      "outputs": []
    },
    {
      "cell_type": "code",
      "metadata": {
        "id": "L8O7h_K2e0Dn",
        "colab_type": "code",
        "colab": {}
      },
      "source": [
        "# Normalizamos el conjunto X de entrenamiento y de test\n",
        "# como el valor máximo que podemos tener es 4 solo vamos a dividir entre en máximo\n",
        "X_train = X_train / 4\n",
        "X_test = X_test / 4\n"
      ],
      "execution_count": 95,
      "outputs": []
    },
    {
      "cell_type": "markdown",
      "metadata": {
        "id": "BynDo6SJlNQc",
        "colab_type": "text"
      },
      "source": [
        "Validamos que las dimensiones sean las mencionadas anteriormente."
      ]
    },
    {
      "cell_type": "code",
      "metadata": {
        "id": "23bQN-f6GWAs",
        "colab_type": "code",
        "colab": {
          "base_uri": "https://localhost:8080/",
          "height": 52
        },
        "outputId": "f63cb5a6-e325-41e5-be01-2e6608a49bae"
      },
      "source": [
        "# Como podemos ver el valor de m en nuestro ejemplo es 135\n",
        "# y el tamaño del conjunto de prueba es de 35\n",
        "print(X_train.shape)\n",
        "print(X_test.shape)"
      ],
      "execution_count": 96,
      "outputs": [
        {
          "output_type": "stream",
          "text": [
            "(54, 135)\n",
            "(54, 35)\n"
          ],
          "name": "stdout"
        }
      ]
    },
    {
      "cell_type": "markdown",
      "metadata": {
        "id": "-qUkMJYylTsZ",
        "colab_type": "text"
      },
      "source": [
        "Ahora vamos a preparar los conjuntos y ya que estas deben de estar en un vector fila y actualmente están en un conjunto columna.\n",
        "\n",
        "OJO, En este punto son adimensionales, lo cual nos puede crear problemas al momento de hacer cálculos con ellas, por lo tanto primero es ponerlas en el plano dimensional."
      ]
    },
    {
      "cell_type": "code",
      "metadata": {
        "id": "7TXc-kAvZwC0",
        "colab_type": "code",
        "colab": {
          "base_uri": "https://localhost:8080/",
          "height": 52
        },
        "outputId": "dfd4a035-583d-405d-e5a1-4a14be576101"
      },
      "source": [
        "y_train = y_train.values\n",
        "y_test = y_test.values\n",
        "print(y_train.shape)\n",
        "print(y_test.shape)\n"
      ],
      "execution_count": 97,
      "outputs": [
        {
          "output_type": "stream",
          "text": [
            "(135,)\n",
            "(35,)\n"
          ],
          "name": "stdout"
        }
      ]
    },
    {
      "cell_type": "code",
      "metadata": {
        "id": "39V6WZZqaMik",
        "colab_type": "code",
        "colab": {}
      },
      "source": [
        "y_train = y_train.reshape((1, y_train.shape[0]))\n",
        "y_test = y_test.reshape((1, y_test.shape[0]))"
      ],
      "execution_count": 98,
      "outputs": []
    },
    {
      "cell_type": "code",
      "metadata": {
        "id": "7xEGnrylbHb6",
        "colab_type": "code",
        "colab": {
          "base_uri": "https://localhost:8080/",
          "height": 52
        },
        "outputId": "5240d33d-5bf5-4ae0-d1db-565b4d0e8aeb"
      },
      "source": [
        "print(y_train.shape)\n",
        "print(y_test.shape)"
      ],
      "execution_count": 99,
      "outputs": [
        {
          "output_type": "stream",
          "text": [
            "(1, 135)\n",
            "(1, 35)\n"
          ],
          "name": "stdout"
        }
      ]
    },
    {
      "cell_type": "markdown",
      "metadata": {
        "id": "Hp-rLUQTJpiP",
        "colab_type": "text"
      },
      "source": [
        "Ahora sí, pasamos a crear las funciones correspondientes para poder ejecutar una regreción logística con una neurona por medio de *backpropagation*.\n",
        "\n",
        "Como la activación de dicha neurona va a ser con una función sigmoide, la declaramos.\n",
        "\n",
        "OJO, las funciones están en inglés ya que son copiadas directamente de mi propio ejercicio hecho en el notebook de Andrew Ng."
      ]
    },
    {
      "cell_type": "code",
      "metadata": {
        "id": "FoSTt1AYHjra",
        "colab_type": "code",
        "colab": {}
      },
      "source": [
        "# Función de activación\n",
        "def sigmoid(z):\n",
        "    \"\"\"\n",
        "    Computa el sigmoide de z\n",
        "\n",
        "    Argumentos:\n",
        "    z -- Un escalar o un array de numpy de cualquier tamaño.\n",
        "\n",
        "    Returna:\n",
        "    s -- sigmoid(z)\n",
        "    \"\"\"\n",
        "    s = 1 / (1 + np.exp(-z))\n",
        "    return s"
      ],
      "execution_count": 100,
      "outputs": []
    },
    {
      "cell_type": "markdown",
      "metadata": {
        "id": "76rqFaYdmkHT",
        "colab_type": "text"
      },
      "source": [
        "Nuestros pesos en un principio van a estar inicializados en ceros junto con nuestro sesgo, no es la mejor inicialización y menos con una activacióón sigmoidal ya que da oportunidad a la saturación de neuronas. Así va el ejercicio y en proyectos posteriores vamos a crear más activaciones, en este caso no hay mayor problema ya que es solo una neurona."
      ]
    },
    {
      "cell_type": "code",
      "metadata": {
        "id": "Ok66geGAJ_ku",
        "colab_type": "code",
        "colab": {}
      },
      "source": [
        "# Función de inicialización de pesos en ceros\n",
        "def initialize_with_zeros(dim):\n",
        "    \"\"\"\n",
        "    Esta función crea un vector de ceros con dimensiones (dim, 1) para w e inicializa b a cero\n",
        "    \n",
        "    Argument:\n",
        "    dim -- tamaño de el vector w que queremos (o el número de parámetros en este caso)\n",
        "    size of the w vector we want (or number of parameters in this case)\n",
        "    \n",
        "    Returna:\n",
        "    w -- el vector inicializado de dimensiones (dim, 1)\n",
        "    b -- el escalar inicializado de dimensiones (dim, 1)\n",
        "    \"\"\"\n",
        "    w = np.zeros(shape=(dim, 1))\n",
        "    b = 0\n",
        "    assert(w.shape == (dim, 1))\n",
        "    assert(isinstance(b, float) or isinstance(b, int))\n",
        "    return w, b"
      ],
      "execution_count": 101,
      "outputs": []
    },
    {
      "cell_type": "markdown",
      "metadata": {
        "id": "XGr02vj3m83y",
        "colab_type": "text"
      },
      "source": [
        "## Propagación hacia adelante.\n",
        "Ahora, vamos a crear la propagación hacia adelante de cada uno de los datos, ponderado con sus pesos y sesgo y activado por la sigmoide. "
      ]
    },
    {
      "cell_type": "markdown",
      "metadata": {
        "id": "BuUURNW4nQme",
        "colab_type": "text"
      },
      "source": [
        "Aquí vamos a explicar qué está pasando detrás del código y a explicar la procedencia de las diferentes variables.\n",
        "\n",
        "A, es el conjunto de activaciones y está definido de la siguiente forma:\n",
        "$$A = \\left\\{ a_{1}, a_{2}, a_{3}, ..., a_{m} \\right\\}$$\n",
        "cada uno de los valores $$a_{i}$$ representan la activación para cada uno de los datos de X, por ejemplo:\n",
        "$$a_i = sigmoid(w_1x_{0,i}+w_2x_{1,i}+w_3x_{2,i}+...+b)$$\n",
        "\n",
        "Antes de ver el costo vamos a ver la ecuación para el error logarítmico, su fórmula es:\n",
        "$$L(a^i,y^i)= -y^i \\ln{(a^i)} - (1-y^i)\\ln{(1-a^i)}$$\n",
        "Esta calcula el error para cada una de las activaciones respecto a su etiqueta en el conjunto Y, su calculo lo hace de la siguiente manera:\n",
        "\n",
        "Cuando y=0 el primer elemento de la ecuación se va a cero y toma el valor de $$L(a^i,0)=-\\ln{(1-a^i)}$$ En este caso si nuestra predicción es cerca de 0 (no exactamente 0 por la salida del sigmoide) el logaritmo natural toma un valor muy pequeño. Por el contrario si nuestra predicción es cercano a 1, el logaritmo natural toma un valor alto.\n",
        "\n",
        "Cuando y=1, el primer elemento de la ecuación toma el control y la segunda se va a 0.\n",
        "$$L(a^i,1)= -\\ln{(a^i)}$$\n",
        "En este caso si nuestra predicción tiene una activación cercana a 0 el logaritmo natural toma un valor muy alto y al contrario si nuestra activación es cercano a 0, el logaritmo natural toma un valor muy pequeño.\n",
        "\n",
        "Ya teniendo el conocimiento de la ecuación para el error logarítmico, vamos a ver la función costo, esta solamente es el promedio de todas las salidas de la función error para cada uno de nuestras activaciones, es decir:\n",
        "$$J(w, b) = \\frac{1}{m}\\sum_{i = 1}^{m}L(a^i, y^i)$$\n",
        "\n",
        "Con eso termina la propagación hacia adelante, con esto ya todos los m ejemplos están evaluados y tenemos la función costo."
      ]
    },
    {
      "cell_type": "markdown",
      "metadata": {
        "id": "ix8x7pmsSNFI",
        "colab_type": "text"
      },
      "source": [
        "## Propagación hacia atrás (backpropagation).\n",
        "\n",
        "Ahora, lo que nos compete son las siguientes ecuaciones ya que son las responsables de determinar la porporción de descenso que tiene que hacer cada parámetro, en este caso son los pesos y el sesgo. Las ecuaciones son las siguientes:\n",
        "$$w^i := w^i + \\alpha \\frac{\\partial J(w, b)}{\\partial w}$$\n",
        "\n",
        "$$b :=b + \\alpha \\frac{\\partial J(w, b)}{\\partial b}$$\n",
        "\n",
        "Donde *alpha* es la tasa de aprendizaje.\n",
        "\n",
        "Para encontrar las derivadas parciales hay que utilizar la regla de cadena de cálculo, pero primero hay que determinar el orden de la composición de las funciones, quedando de la siguiente manera\n",
        "Primero empezamos teniendo los pesos, el sesgo y el conjunto X para el entrenamiento.\n",
        "$$W, X, b$$\n",
        "Después aplicamos la ecuación lineal, que nos da Z.\n",
        "$$Z = W^TX+b$$\n",
        "Posteriormente aplicamos la función de activación sigmoide a Z y nos devuelve A.\n",
        "$$A = \\sigma(Z)$$\n",
        "Donde sigma es la función sigmoide.\n",
        "Por último calculamos el error logarítmico y nos devuelve L(ai, yi), ya la función costo sería la suma de todas las salidas de L(ai, yi).\n",
        "$$L(a^i,y^i)= -y^i \\ln{(a^i)} - (1-y^i)\\ln{(1-a^i)}$$\n",
        "\n",
        "Por lo tanto, tomando las derivadas parciales de abajo hacia arriba para crear la regla de cadena nos queda.\n",
        "OJO, a pesar de que queremos encontrar J(w, b) vamos a calcular la regla de cadena a partir de L(ai, yi).\n",
        "\n",
        "Entonces la regla de la cadena nos deja las siguientes derivadas parciales para calcular el cambio de los pesos y del sesgo.\n",
        "$$\\frac {\\partial L}{\\partial w} = \\frac {\\partial L}{\\partial a} \\frac {\\partial a}{\\partial z} \\frac {\\partial z}{\\partial w}$$\n",
        "\n",
        "$$\\frac {\\partial L}{\\partial b} = \\frac {\\partial L}{\\partial a} \\frac {\\partial a}{\\partial z} \\frac {\\partial z}{\\partial b}$$\n",
        "\n",
        "Ahora pasamos a desarrollar cada una de las parciales necesarias para el cálculo. Primero calculamos la derivada de L respecto a a.\n",
        "$$\\frac {\\partial L}{\\partial a} = -y (\\frac{1}{a})  - (1-y)\\frac{1}{1-a}(-1) = \\frac{-y}{a}+\\frac{1-y}{1-a}$$\n",
        "\n",
        "\n",
        "$$\\frac{\\partial a}{\\partial z} = -(1+e^{-z})^{-2}(-e^{-z}) = \\frac{e^{-z}+1-1}{(1+e^{-z})^{2}} = \\frac{1+e^{-z}}{(1+e^{-z})^{2}}-\\frac{1}{(1+e^{-z})^{2}} = \\frac{1}{1+e^{-z}} -a^2 = a-a^2 = a(1-a)$$\n",
        "\n",
        "$$\\frac{\\partial z}{\\partial w} = x$$\n",
        "$$\\frac{\\partial z}{\\partial b} = 1$$\n",
        "\n",
        "Por lo tanto la multiplicación de la regla de cadena queda.\n",
        "$$\\frac {\\partial L}{\\partial w} = (\\frac{-y}{a}+\\frac{1-y}{1-a}) (a(1-a))(x) = [-y(1-a)+a(1-y)]x = x(-y+ay+a-ay) = x(a-y)$$\n",
        "\n",
        "$$\\frac {\\partial L}{\\partial b} = a-y$$\n",
        "\n",
        "Por lo tanto, haciendo la suma total para sacar el promedio, quedan las derivadas parciales de la siguiente manera:\n",
        "\n",
        "$$\\frac{\\partial J(w, b)}{\\partial w} = \\frac{1}{m} X(A-Y)^T$$\n",
        "\n",
        "$$\\frac{\\partial J(w, b)}{\\partial b} = \\frac{1}{m} \\sum_{i = 1}^{m} (a^i-y^i)$$\n",
        "\n"
      ]
    },
    {
      "cell_type": "code",
      "metadata": {
        "id": "k1827-iyLIAR",
        "colab_type": "code",
        "colab": {}
      },
      "source": [
        "# Función de propagación\n",
        "def propagate(w, b, X, Y):\n",
        "    \"\"\"\n",
        "    Implementa la función costo y su gradiente para la propagación explicada anteriormente\n",
        "\n",
        "    Argumentos:\n",
        "    w -- weights o pesos, un array numpy de tamaño (num_atributos[54 en este caso], 1) \n",
        "    b -- bias o sesgo, un escalar\n",
        "    X -- datos con el tamaño (num_atributos[54 en este caso], numbero de ejemplos)\n",
        "    Y -- vector \"etiqueta\" verdad(contiene 0 si esta casado, 1 si está divorsiado) de tamaño (1, numero de ejemplos)\n",
        "\n",
        "    Returna:\n",
        "    cost -- la probabilidad del costo logarítmico negativo para la regresión logística\n",
        "    dw -- gradiente de la perdida con respecto a w, así tiene la misma dimensión de w \n",
        "    db -- gradiente de la perdida con respecto a b, así tiene la misma dimensión de b    \n",
        "    \"\"\"\n",
        "    \n",
        "    m = X.shape[1]\n",
        "    \n",
        "    # PROPAGACIÓN HACIA DELANTE (DESDE X A COST)\n",
        "    A = sigmoid(np.dot(w.T, X) + b)                         # computa la activación\n",
        "    cost = np.sum( Y*np.log(A) + (1-Y)*np.log(1-A) ) / -m   # computa el cost\n",
        "    \n",
        "    # PROPAGACIÓN HACIA ATRÁS (PARA ENCONTRAR EL GRADIENTE)\n",
        "    dw = np.dot(X, (A-Y).T) / m\n",
        "    db = np.sum(A-Y) / m\n",
        "\n",
        "    assert(dw.shape == w.shape)\n",
        "    assert(db.dtype == float)\n",
        "    cost = np.squeeze(cost)\n",
        "    assert(cost.shape == ())\n",
        "    \n",
        "    grads = {\"dw\": dw,\n",
        "             \"db\": db}\n",
        "    \n",
        "    return grads, cost"
      ],
      "execution_count": 22,
      "outputs": []
    },
    {
      "cell_type": "markdown",
      "metadata": {
        "id": "UvzX-lCeeOjA",
        "colab_type": "text"
      },
      "source": [
        "La función optimizar solo va a calcular las derivadas parciales de la función costo y aplicara el gradiente descendiente:\n",
        "$$w := w + \\alpha \\frac{\\partial J(w, b)}{\\partial w}$$\n",
        "\n",
        "$$b :=b + \\alpha \\frac{\\partial J(w, b)}{\\partial b}$$"
      ]
    },
    {
      "cell_type": "code",
      "metadata": {
        "id": "st43ZeovRb5g",
        "colab_type": "code",
        "colab": {}
      },
      "source": [
        "# FUNCIÓN: optimizar\n",
        "\n",
        "def optimize(w, b, X, Y, num_iterations, learning_rate, print_cost = False):\n",
        "    \"\"\"\n",
        "    Esta función optimiza w y b por correr un algoritmo de gradiente descendiente\n",
        "    \n",
        "    Argumentos:\n",
        "    w -- weights o pesos, un array numpy de tamaño (número de atributos, 1)\n",
        "    b -- bias o sesgo, un escalar\n",
        "    X -- datos con el tamaño (num_atributos[54 en este caso], numbero de ejemplos)\n",
        "    Y -- vector \"etiqueta\" verdad(contiene 0 si esta casado, 1 si está divorsiado) de tamaño (1, numero de ejemplos)\n",
        "    num_iterations -- número de iteraciones del ciclo de optimización\n",
        "    learning_rate -- tasa de aprendizaje de la regla de actualización del gradiente descendiente\n",
        "    print_cost -- Si es True imprime la pérdida cada 100 pasos \n",
        "    \n",
        "    Returna:\n",
        "    params -- diccionario que contiene los pesos w y el sesgo b\n",
        "    grads -- diccionario que contiene los gradiente de los pesos y el sesgo respecto a la función cost\n",
        "    costs -- lista de todos los costos computados durante la optimización, esto será usado para graficar la curva de aprendizaje     \n",
        "    \"\"\"\n",
        "    \n",
        "    costs = []\n",
        "    \n",
        "    for i in range(num_iterations):\n",
        "        \n",
        "        \n",
        "        grads, cost = propagate(w, b, X, Y)\n",
        "\n",
        "        #  Resupera las derivadas desde grads\n",
        "        dw = grads[\"dw\"]\n",
        "        db = grads[\"db\"]\n",
        "        \n",
        "        w = w - learning_rate*dw\n",
        "        b = b - learning_rate*db\n",
        "        \n",
        "        # Guarda los costos\n",
        "        if i % 100 == 0:\n",
        "            costs.append(cost)\n",
        "        \n",
        "        # Imprime los costos cada 100 iteraciones de entrenamiento\n",
        "        if print_cost and i % 100 == 0:\n",
        "            print (\"Cost after iteration %i: %f\" %(i, cost))\n",
        "    \n",
        "    params = {\"w\": w,\n",
        "              \"b\": b}\n",
        "    \n",
        "    grads = {\"dw\": dw,\n",
        "             \"db\": db}\n",
        "    \n",
        "    return params, grads, costs"
      ],
      "execution_count": 23,
      "outputs": []
    },
    {
      "cell_type": "markdown",
      "metadata": {
        "id": "aQqIiFI5enh0",
        "colab_type": "text"
      },
      "source": [
        "La función predecir es la encargada de otorgar solo ceros y unos a nuestras predicciones, ya que hasta ahora solo las teniamos en activaciones que no llegaban a ser cero o uno como tal, si una activación es menor que o igual que 0.5 entonces la predicción es 0 y por el contrario si nuestra activación es mayor a 0.5 entonces nuestra predicción es 1."
      ]
    },
    {
      "cell_type": "code",
      "metadata": {
        "id": "h_bC_WfuReG3",
        "colab_type": "code",
        "colab": {}
      },
      "source": [
        "# FUNCIÓN: predecir\n",
        "\n",
        "def predict(w, b, X):\n",
        "    '''\n",
        "    Predice ya sea si la etiqueta es 0 o 1 usando los parámetros de regresión logística aprendidos (w, b) \n",
        "    \n",
        "    Argumentos:\n",
        "    w -- weights o pesos, un array numpy de tamaño (número atributos, 1)\n",
        "    b -- bias o sesgo, un escalar\n",
        "    X -- datos de tamño (número atributos, número de ejemplos)\n",
        "    \n",
        "    Returna:\n",
        "    Y_prediction -- un array numpy (vector) conteniendo todas las predicciones (0/1) para los ejemplos en X\n",
        "    '''\n",
        "    \n",
        "    m = X.shape[1]\n",
        "    Y_prediction = np.zeros((1,m))\n",
        "    w = w.reshape(X.shape[0], 1)\n",
        "    \n",
        "    # Computa el vector A prediciendo las probabilidades de que esté divorciado en un evento\n",
        "    A = sigmoid(np.dot(w.T, X) + b)\n",
        "    \n",
        "    for i in range(A.shape[1]):\n",
        "        \n",
        "        # Convierte las probabilidades A[0, i] a las predicciones actuales p[0, i]\n",
        "        if A[0][i] <= 0.5:\n",
        "            Y_prediction[0][i] = 0\n",
        "        else:\n",
        "            Y_prediction[0][i] = 1\n",
        "    \n",
        "    assert(Y_prediction.shape == (1, m))\n",
        "    \n",
        "    return Y_prediction"
      ],
      "execution_count": 24,
      "outputs": []
    },
    {
      "cell_type": "markdown",
      "metadata": {
        "id": "kV9S4eWTfDaq",
        "colab_type": "text"
      },
      "source": [
        "Aquíí ya tenemos el modelo completo, aquí solamente se hace todo el proceso de una manera ordenada, ya toda la funcionalidad quedó explicada anteriormente."
      ]
    },
    {
      "cell_type": "code",
      "metadata": {
        "id": "KtAh03h1VJ1V",
        "colab_type": "code",
        "colab": {}
      },
      "source": [
        "# FUNCIÓN: modelo\n",
        "\n",
        "def model(X_train, Y_train, X_test, Y_test, num_iterations = 2000, learning_rate = 0.5, print_cost = False):\n",
        "    \"\"\"\n",
        "    Construye el modelo de regresión logística llamando las funciones que implementamos anteriormente\n",
        "    \n",
        "    Argumentos:\n",
        "    X_train -- el conjunto de entrenamiento representado por un array numpy de tamaño (número atributos, m_train)\n",
        "    Y_train -- las etiquetas de entrenamiento representadas por un array numpy (vector) de tamaño (1, m_train)\n",
        "    X_test -- conjunto de prueba representadas por un array numpy de tamaño (número atributos, m_test)\n",
        "    Y_test -- etiquetas de la prueba representadas por un array numpy (vector)de tamaño (1, m_test)\n",
        "    num_iterations -- hiperparámetro representando los números de iteraciones para optimizar los parámetros\n",
        "    learning_rate -- hiperparámetro representando la tasa de aprendizaje usado en la regla de actualizacióón de optimize()\n",
        "    print_cost -- puesto en true imprime los costos cada 100 iteraciones\n",
        "    \n",
        "    Returna:\n",
        "    d -- dictionario conteniendo información sobre el modelo.\n",
        "    \"\"\"\n",
        "\n",
        "    # incializa los parámetros con ceros    \n",
        "    w, b = initialize_with_zeros(X_train.shape[0])\n",
        "\n",
        "    # Gradiente descendiente \n",
        "    parameters, grads, costs = optimize(w, b, X_train, Y_train, num_iterations, learning_rate, print_cost)\n",
        "    \n",
        "    # Recupera los parámetros w y b desde el dictionario \"parametros\"\n",
        "    w = parameters[\"w\"]\n",
        "    b = parameters[\"b\"]\n",
        "    \n",
        "    # Predice los conjuntos prueba/entrenamiento \n",
        "    Y_prediction_test = predict(w, b, X_test)\n",
        "    Y_prediction_train = predict(w, b, X_train) \n",
        "\n",
        "    # imprime los errores de entrenamiento/prueba\n",
        "    print(\"train accuracy: {} %\".format(100 - np.mean(np.abs(Y_prediction_train - Y_train)) * 100))\n",
        "    print(\"test accuracy: {} %\".format(100 - np.mean(np.abs(Y_prediction_test - Y_test)) * 100))\n",
        "\n",
        "    \n",
        "    d = {\"costs\": costs,\n",
        "         \"Y_prediction_test\": Y_prediction_test, \n",
        "         \"Y_prediction_train\" : Y_prediction_train, \n",
        "         \"w\" : w, \n",
        "         \"b\" : b,\n",
        "         \"learning_rate\" : learning_rate,\n",
        "         \"num_iterations\": num_iterations}\n",
        "    \n",
        "    return d"
      ],
      "execution_count": 29,
      "outputs": []
    },
    {
      "cell_type": "code",
      "metadata": {
        "id": "PVtNy-GaW1KC",
        "colab_type": "code",
        "colab": {
          "base_uri": "https://localhost:8080/",
          "height": 399
        },
        "outputId": "a250e2db-cf49-401f-f4de-36fed174814e"
      },
      "source": [
        "d = model(X_train, y_train, X_test, y_test, num_iterations = 2000, learning_rate = 0.005, print_cost = True)"
      ],
      "execution_count": 52,
      "outputs": [
        {
          "output_type": "stream",
          "text": [
            "Cost after iteration 0: 0.693147\n",
            "Cost after iteration 100: 0.487686\n",
            "Cost after iteration 200: 0.429457\n",
            "Cost after iteration 300: 0.385365\n",
            "Cost after iteration 400: 0.349116\n",
            "Cost after iteration 500: 0.318874\n",
            "Cost after iteration 600: 0.293419\n",
            "Cost after iteration 700: 0.271812\n",
            "Cost after iteration 800: 0.253317\n",
            "Cost after iteration 900: 0.237360\n",
            "Cost after iteration 1000: 0.223487\n",
            "Cost after iteration 1100: 0.211339\n",
            "Cost after iteration 1200: 0.200630\n",
            "Cost after iteration 1300: 0.191131\n",
            "Cost after iteration 1400: 0.182657\n",
            "Cost after iteration 1500: 0.175057\n",
            "Cost after iteration 1600: 0.168208\n",
            "Cost after iteration 1700: 0.162007\n",
            "Cost after iteration 1800: 0.156368\n",
            "Cost after iteration 1900: 0.151221\n",
            "train accuracy: 97.77777777777777 %\n",
            "test accuracy: 97.14285714285714 %\n"
          ],
          "name": "stdout"
        }
      ]
    },
    {
      "cell_type": "markdown",
      "metadata": {
        "id": "TDbM6dY1LD0y",
        "colab_type": "text"
      },
      "source": [
        "Graficamos la curva de aprendizaje para poder observar como la funcióón costo va disminuyendo, efectivamente, como lo deseamos."
      ]
    },
    {
      "cell_type": "code",
      "metadata": {
        "id": "PeyPpAF6c3pV",
        "colab_type": "code",
        "colab": {
          "base_uri": "https://localhost:8080/",
          "height": 312
        },
        "outputId": "f9fe034f-452c-4986-9c82-cf4bb5ab1af9"
      },
      "source": [
        "# Graficamos la curva de apredizaje\n",
        "costs = np.squeeze(d['costs'])\n",
        "plt.plot(costs)\n",
        "plt.title(\"Tasa de aprendizaje = \" + str(d['learning_rate']))\n",
        "plt.xlabel(\"iteraciones (por cientos)\")\n",
        "plt.ylabel(\"Costo\")"
      ],
      "execution_count": 56,
      "outputs": [
        {
          "output_type": "execute_result",
          "data": {
            "text/plain": [
              "Text(0, 0.5, 'Costo')"
            ]
          },
          "metadata": {
            "tags": []
          },
          "execution_count": 56
        },
        {
          "output_type": "display_data",
          "data": {
            "image/png": "[encoded data removed]",
            "text/plain": [
              "<Figure size 432x288 with 1 Axes>"
            ]
          },
          "metadata": {
            "tags": [],
            "needs_background": "light"
          }
        }
      ]
    },
    {
      "cell_type": "markdown",
      "metadata": {
        "id": "Dy-lZhZLLSS2",
        "colab_type": "text"
      },
      "source": [
        "#Conclusiones\n",
        "La regresión logística por medio de un perceptrón es sumamente poderosa y rápida de calcular computacionalmente hablando, con uso de la vectorización y la eliminación de todo ciclo explicito es la clave del éxito computacional, fácil de entender, explicar y calcular.\n",
        "\n",
        "Desventajas, pese a ser un modelo muy simple, cumple su trabajo, desgraciadamente al ser un modelo lineal con transformación sigmoide no es capaz de generar una clasificación correcta en clases mayormente entrelazadas, es por que este solamente es una introducción al gran tema de las redesneuronales y por ende al aprendizaje profundo."
      ]
    }
  ]
}