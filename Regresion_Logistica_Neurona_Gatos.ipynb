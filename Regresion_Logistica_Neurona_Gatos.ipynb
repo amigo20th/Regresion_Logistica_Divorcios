{
  "nbformat": 4,
  "nbformat_minor": 0,
  "metadata": {
    "colab": {
      "name": "Regresion_Logistica_Neurona_Gatos.ipynb",
      "provenance": []
    },
    "kernelspec": {
      "name": "python3",
      "display_name": "Python 3"
    }
  },
  "cells": [
    {
      "cell_type": "markdown",
      "metadata": {
        "id": "Ru6jbXEwF1Dh",
        "colab_type": "text"
      },
      "source": [
        "<h1>Regresión Logística</h1>"
      ]
    },
    {
      "cell_type": "markdown",
      "metadata": {
        "id": "gObF_TG5GARn",
        "colab_type": "text"
      },
      "source": [
        "En este Notebook vamos a hacer una regresión logístia por medio de una sola neurona, o perceptró. El proceso va a ser llevado desde un inicio con el mayor nivel de explicación que me sea posible dar.\n",
        "\n",
        "El ejercicio está basado en el Notebook de Andrew Ng llamado Logistic Regression with a Neural Network, aunque el ejercicio está excelentemente explicado quiero replicarlo, esto lo voy a hacer en mis propias palabras es por eso que lo estoy haciendo en español.\n",
        "\n",
        "LLamamos nuestras librerias a ocupar."
      ]
    },
    {
      "cell_type": "code",
      "metadata": {
        "id": "afWmtlmIF-LO",
        "colab_type": "code",
        "colab": {}
      },
      "source": [
        "import numpy as np\n",
        "import matplotlib.pyplot as plt\n",
        "import scipy\n",
        "from PIL import Image\n",
        "from scipy import ndimage"
      ],
      "execution_count": 2,
      "outputs": []
    },
    {
      "cell_type": "code",
      "metadata": {
        "id": "WdnKpTw7IWzc",
        "colab_type": "code",
        "colab": {}
      },
      "source": [
        ""
      ],
      "execution_count": null,
      "outputs": []
    }
  ]
}